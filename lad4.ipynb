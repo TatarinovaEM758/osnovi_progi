{
  "nbformat": 4,
  "nbformat_minor": 0,
  "metadata": {
    "colab": {
      "provenance": [],
      "authorship_tag": "ABX9TyPeRRzx1pZ6tLcEANVSfUZc",
      "include_colab_link": true
    },
    "kernelspec": {
      "name": "python3",
      "display_name": "Python 3"
    },
    "language_info": {
      "name": "python"
    }
  },
  "cells": [
    {
      "cell_type": "markdown",
      "metadata": {
        "id": "view-in-github",
        "colab_type": "text"
      },
      "source": [
        "<a href=\"https://colab.research.google.com/github/TatarinovaEM758/osnovy_programmirovania/blob/main/lad4.ipynb\" target=\"_parent\"><img src=\"https://colab.research.google.com/assets/colab-badge.svg\" alt=\"Open In Colab\"/></a>"
      ]
    },
    {
      "cell_type": "markdown",
      "source": [
        "Программирование на языке высокого уровня (Python)\n",
        "\n",
        "https://www.yuripetrov.ru/edu/python\n",
        "\n",
        "Лабораторная работа \n",
        "\n",
        "Выполнил: Татаринова Екатерина Михайловна\n",
        "\n",
        "Группа: АДЭУ-221\n",
        "\n",
        "E-mail: ekaterinaratatinova@gmail.com"
      ],
      "metadata": {
        "id": "8VaHKtUcuBwe"
      }
    },
    {
      "cell_type": "markdown",
      "source": [
        "№ 4.2.1\n",
        "\n",
        "Рассчитать значение f при заданном значении вещественного числа x:\n",
        "![image.png](data:image/png;base64,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)\n",
        "При выводе на экран оставьте 2 знака после запятой."
      ],
      "metadata": {
        "id": "imvLTl3BCizP"
      }
    },
    {
      "cell_type": "code",
      "execution_count": 5,
      "metadata": {
        "colab": {
          "base_uri": "https://localhost:8080/"
        },
        "id": "_tBiX6C1t_kR",
        "outputId": "76e9ae41-31a8-47d5-da00-d3afea529839"
      },
      "outputs": [
        {
          "output_type": "stream",
          "name": "stdout",
          "text": [
            "10\n",
            "103.16\n"
          ]
        }
      ],
      "source": [
        "a = int(input())\n",
        "\n",
        "if a >= 0:\n",
        "    f = (a**(1/2))+(a**2)\n",
        "else:\n",
        "    f = 1/a\n",
        "\n",
        "print(round(f, 2))"
      ]
    },
    {
      "cell_type": "markdown",
      "source": [
        "№ 4.2.2\n",
        "\n",
        "Определите максимальное и минимальное значения из двух различных целых чисел."
      ],
      "metadata": {
        "id": "RvYI9Y09qeOi"
      }
    },
    {
      "cell_type": "code",
      "source": [
        "a1 = int(input('a1 = '))\n",
        "a2 = int(input('a2 = '))\n",
        "\n",
        "if a1 == a2:\n",
        "    print('Числа равны')\n",
        "else:\n",
        "    if a1 > a2:\n",
        "        print('Макс = ', a1, 'Мин = ', a2)\n",
        "    else:\n",
        "        print('Макс = ', a2, 'Мин = ', a1)\n"
      ],
      "metadata": {
        "colab": {
          "base_uri": "https://localhost:8080/"
        },
        "id": "KBT4Mttgqfta",
        "outputId": "ecb8b764-4483-40dc-9110-fa25ab7dff19"
      },
      "execution_count": 7,
      "outputs": [
        {
          "output_type": "stream",
          "name": "stdout",
          "text": [
            "a1 = 1\n",
            "a2 = 2\n",
            "Макс =  2 Мин =  1\n"
          ]
        }
      ]
    },
    {
      "cell_type": "markdown",
      "source": [
        "№ 4.2.3\n",
        "\n",
        "Вася пытается высунуть голову в форточку размерами a и b см. Приняв условно, что его голова - круглая диаметром d см, определите, сможет ли Вася сделать это. Для прохождения головы в форточку необходим зазор в 1 см. с каждой стороны.\n",
        "\n",
        "Все величины - целые числа.\n"
      ],
      "metadata": {
        "id": "Nfqijx8srQDc"
      }
    },
    {
      "cell_type": "code",
      "source": [
        "a = int(input('Ширина : '))\n",
        "h = int(input('Высота : '))\n",
        "d = int(input('Диаметр головы : '))\n",
        "\n",
        "if ((a or h or d) < 0):\n",
        "    print('Ошибка')\n",
        "else:\n",
        "    if ((a-1>=d) and (h-1>=d)):\n",
        "        print('Да')\n",
        "    else:\n",
        "        print('Нет')"
      ],
      "metadata": {
        "colab": {
          "base_uri": "https://localhost:8080/"
        },
        "id": "cRx2QxkurRbw",
        "outputId": "b9555702-d2b5-4646-eb08-38c0cba504fc"
      },
      "execution_count": 8,
      "outputs": [
        {
          "output_type": "stream",
          "name": "stdout",
          "text": [
            "Ширина : 5\n",
            "Высота : 6\n",
            "Диаметр головы : 6\n",
            "Нет\n"
          ]
        }
      ]
    },
    {
      "cell_type": "markdown",
      "source": [
        "№ 4.2.4\n",
        "\n",
        "Известны год и номер месяца сегодняшнего дня, а также год и номер месяца рождения человека (нумерация месяцев с 1: январь - 1 и т.д.). Определите возраст человека (число полных лет)."
      ],
      "metadata": {
        "id": "ZdHKd6wHuKVA"
      }
    },
    {
      "cell_type": "code",
      "source": [
        "year_today = int(input('Текущий год - '))\n",
        "month_today = int(input('Текущий месяц - '))\n",
        "\n",
        "year = int(input('Год рождения - '))\n",
        "month = int(input('Месяц рождения - '))\n",
        "\n",
        "age = year_today-year \n",
        "\n",
        "if month>month_today:\n",
        "  print('Число полных лет:', age-1)\n",
        "else:\n",
        "  print('Число полных лет:', age)\n"
      ],
      "metadata": {
        "colab": {
          "base_uri": "https://localhost:8080/"
        },
        "id": "H2t8Nt0GuLf1",
        "outputId": "e5e33210-5902-4e0b-d160-779115554991"
      },
      "execution_count": 9,
      "outputs": [
        {
          "output_type": "stream",
          "name": "stdout",
          "text": [
            "Текущий год - 2022\n",
            "Текущий месяц - 9\n",
            "Год рождения - 2003\n",
            "Месяц рождения - 12\n",
            "Число полных лет: 18\n"
          ]
        }
      ]
    },
    {
      "cell_type": "markdown",
      "source": [
        "№ 4.2.5\n",
        "\n",
        "Дана точка с целыми ненулевыми координатами (x;y). Определить номер четверти координатной плоскости, которой она принадлежит."
      ],
      "metadata": {
        "id": "oMAgPWTYvR_H"
      }
    },
    {
      "cell_type": "code",
      "source": [
        "x = int(input('x = '))\n",
        "y = int(input('y = '))\n",
        "\n",
        "if (x>0 and y>0):\n",
        "    print('1-ая четверть')\n",
        "elif (x<0 and y>0):\n",
        "    print('2-ая четверть')\n",
        "elif (x<0 and y<0):\n",
        "    print('3-ая четверть')\n",
        "elif (x>0 and y<0):\n",
        "    print('4-ая четверть')\n"
      ],
      "metadata": {
        "colab": {
          "base_uri": "https://localhost:8080/"
        },
        "id": "9MJoxcQdvV46",
        "outputId": "72dd1fd3-0a54-4dca-a259-beaf36ad5621"
      },
      "execution_count": 11,
      "outputs": [
        {
          "output_type": "stream",
          "name": "stdout",
          "text": [
            "x = 5\n",
            "y = 7\n",
            "1-ая четверть\n"
          ]
        }
      ]
    },
    {
      "cell_type": "markdown",
      "source": [
        "№ 4.2.6\n",
        "\n",
        "Даны вещественные числа a, b, c (a≠0).\n",
        "\n",
        "Решите уравнение ax2+bx+c=0. При выводе значений оставьте 1 знак после запятой."
      ],
      "metadata": {
        "id": "3LNb84n0wC95"
      }
    },
    {
      "cell_type": "code",
      "source": [
        "a = float(input('a = '))\n",
        "b = float(input('b = '))\n",
        "c = float(input('c = '))\n",
        "\n",
        "d=(b**2)-(4*a*c)\n",
        "\n",
        "if (d<0):\n",
        "  print('нет решений')\n",
        "elif (d==0):\n",
        "  x1 = ((-1*b)/2*a)\n",
        "  print('x = ', x1)\n",
        "elif (d>0):\n",
        "  x2 = ((-1*b)+(d**(1/2)))/2*a\n",
        "  x1 = ((-1*b)-(d**(1/2)))/2*a\n",
        "  print('x1 =',x1,'x2 =',x2)"
      ],
      "metadata": {
        "colab": {
          "base_uri": "https://localhost:8080/"
        },
        "id": "Ju4GKgGUwGIN",
        "outputId": "d9645c06-8d35-4540-af08-4466e27632e9"
      },
      "execution_count": 15,
      "outputs": [
        {
          "output_type": "stream",
          "name": "stdout",
          "text": [
            "a = 1\n",
            "b = 3\n",
            "c = -4\n",
            "x1 = -4.0 x2 = 1.0\n"
          ]
        }
      ]
    },
    {
      "cell_type": "markdown",
      "source": [
        "№ 4.2.7\n",
        "\n",
        "Дана непустая последовательность целых чисел, оканчивающаяся нулем. Найти сумму и количество введенных чисел."
      ],
      "metadata": {
        "id": "gIlYBwDzxVn3"
      }
    },
    {
      "cell_type": "code",
      "source": [
        "x = int(input('Первое целое число: '))\n",
        "n = list()\n",
        "\n",
        "while x!=0:\n",
        "    n.append(x)\n",
        "    x = int(input('Доп число: '))\n",
        "\n",
        "print('Количество = ', len(n))\n",
        "print('Сумма = ',sum(n))"
      ],
      "metadata": {
        "colab": {
          "base_uri": "https://localhost:8080/"
        },
        "id": "5HJMP33txZgY",
        "outputId": "a2b1447c-b286-48ce-9ba1-d23324dd1460"
      },
      "execution_count": 21,
      "outputs": [
        {
          "output_type": "stream",
          "name": "stdout",
          "text": [
            "Первое целое число: 1\n",
            "Доп число: 2\n",
            "Доп число: 2\n",
            "Доп число: 3\n",
            "Доп число: 4\n",
            "Доп число: 5\n",
            "Доп число: 0\n",
            "Количество =  6\n",
            "Сумма =  17\n"
          ]
        }
      ]
    },
    {
      "cell_type": "markdown",
      "source": [
        "№ 4.2.8\n",
        "\n",
        "Дано число n. Из чисел 0,5,10,15,20,25,... напечатать те, которые не превышают n."
      ],
      "metadata": {
        "id": "oxiutzFcyMxr"
      }
    },
    {
      "cell_type": "code",
      "source": [
        "n = int(input('n =  '))\n",
        "\n",
        "g = 0\n",
        "print('0')\n",
        "\n",
        "while g<=n:\n",
        "    g = g+5\n",
        "    if g<n:\n",
        "      print(g)\n",
        "    else:\n",
        "      break\n"
      ],
      "metadata": {
        "colab": {
          "base_uri": "https://localhost:8080/"
        },
        "id": "ULNSEpgKyl30",
        "outputId": "c15b79ea-c929-477a-c55f-3f8b6da0a0ae"
      },
      "execution_count": 16,
      "outputs": [
        {
          "output_type": "stream",
          "name": "stdout",
          "text": [
            "n =  12\n",
            "0\n",
            "5\n",
            "10\n"
          ]
        }
      ]
    },
    {
      "cell_type": "markdown",
      "source": [
        "№ 4.2.9\n",
        "\n",
        "Дано вещественное число a. Найдите наименьшее натуральное n, для которого верно\n",
        "\n",
        "![image.png](data:image/png;base64,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)"
      ],
      "metadata": {
        "id": "DCUnyHWVzDZ7"
      }
    },
    {
      "cell_type": "code",
      "source": [
        "a = float(input('a =  '))\n",
        "\n",
        "n = 1 \n",
        "x_sum = list() \n",
        "x_sum.append(n) \n",
        "\n",
        "while sum(x_sum)<=a: #Добавляю проверку данных (цикл).\n",
        "    n = n+1\n",
        "    g = 1/n\n",
        "    x_sum.append(g) #Добавляю заключительным элементом переменную g.\n",
        "\n",
        "print(n)"
      ],
      "metadata": {
        "colab": {
          "base_uri": "https://localhost:8080/"
        },
        "id": "vZo4HlwJzTZv",
        "outputId": "357d19e3-1196-4a5b-dd34-e8955a368e82"
      },
      "execution_count": 17,
      "outputs": [
        {
          "output_type": "stream",
          "name": "stdout",
          "text": [
            "a =  2\n",
            "4\n"
          ]
        }
      ]
    },
    {
      "cell_type": "markdown",
      "source": [
        "№ 4.2.10\n",
        "\n",
        "Дано натуральное число. Определите сумму и количество его цифр."
      ],
      "metadata": {
        "id": "nFc06vzN1NKl"
      }
    },
    {
      "cell_type": "code",
      "source": [
        "n = list(map(int, input('Введите число: ')))\n",
        "\n",
        "n_sum = sum(n)\n",
        "n_count = len(n)\n",
        "\n",
        "print('Сумма цифр ', n_sum)\n",
        "print('Количество цифр ', n_count)"
      ],
      "metadata": {
        "colab": {
          "base_uri": "https://localhost:8080/"
        },
        "id": "OkLFj7uc1VRq",
        "outputId": "a152a30d-5627-45e6-d835-53dc9460776c"
      },
      "execution_count": 18,
      "outputs": [
        {
          "output_type": "stream",
          "name": "stdout",
          "text": [
            "Введите число: 12345\n",
            "Сумма цифр  15\n",
            "Количество цифр  5\n"
          ]
        }
      ]
    },
    {
      "cell_type": "markdown",
      "source": [
        "№ 4.2.11\n",
        "\n",
        "Вывести в строку 10 первых натуральных чисел, оканчивающихся на цифру k, кратных числу s и находящихся в интервале, левая граница которого равна start."
      ],
      "metadata": {
        "id": "kYzXdoHf3UUF"
      }
    },
    {
      "cell_type": "code",
      "source": [
        "start = int(input('Левая граница: '))\n",
        "k = int(input('Заканчиваются: '))\n",
        "s = int(input('Кратны: '))\n",
        "n = list()\n",
        "\n",
        "while start%s!=0:\n",
        "    start += 1\n",
        "else:\n",
        "    for x in range(99):\n",
        "        start += 1\n",
        "        while start%s!=0:\n",
        "            start += 1\n",
        "        else:\n",
        "            if start%10==k:\n",
        "                n.append(start)\n",
        "\n",
        "print(n[:10])"
      ],
      "metadata": {
        "colab": {
          "base_uri": "https://localhost:8080/"
        },
        "id": "rtmA-tWd3Zxl",
        "outputId": "74469d26-e846-416d-c0a2-2a9f6f934026"
      },
      "execution_count": 22,
      "outputs": [
        {
          "output_type": "stream",
          "name": "stdout",
          "text": [
            "Левая граница: 100\n",
            "Заканчиваются: 7\n",
            "Кратны: 9\n",
            "[117, 207, 297, 387, 477, 567, 657, 747, 837, 927]\n"
          ]
        }
      ]
    },
    {
      "cell_type": "markdown",
      "source": [
        "№ 4.2.12\n",
        "\n",
        "Даны целые числа a и b (a может быть больше b). Напечатайте:\n",
        "\n",
        "числа от минимального до максимального в строчку (разделяя пробелом);\n",
        "\n",
        "числа от максимального до минимального «столбиком»."
      ],
      "metadata": {
        "id": "ZI-STSeE7Box"
      }
    },
    {
      "cell_type": "code",
      "source": [
        "a=int(input('введите целое число - '))\n",
        "b=int(input('введите целое число - '))\n",
        "name=[]\n",
        "word=[]\n",
        "if(a>b):\n",
        "  while (b<=a):\n",
        "    name.append(b)\n",
        "    b=b+1\n",
        "  print(name)\n",
        "  name.reverse()\n",
        "  print(*name,sep =\"\\n\")\n",
        "else:\n",
        "  while (a<=b):\n",
        "    name.append(a)\n",
        "    a=a+1\n",
        "  print(name)\n",
        "  name.reverse()\n",
        "  print(*name,sep =\"\\n\")\n"
      ],
      "metadata": {
        "colab": {
          "base_uri": "https://localhost:8080/"
        },
        "id": "bumY3iwmSpnt",
        "outputId": "97eaf26a-7310-4426-8ebd-3955cba7aa8a"
      },
      "execution_count": 5,
      "outputs": [
        {
          "output_type": "stream",
          "name": "stdout",
          "text": [
            "введите целое число - 5\n",
            "введите целое число - 7\n",
            "[5, 6, 7]\n",
            "7\n",
            "6\n",
            "5\n"
          ]
        }
      ]
    },
    {
      "cell_type": "markdown",
      "source": [
        "№ 4.2.13\n",
        "\n",
        "Для введенных с клавиатуры положительных целых чисел a и b (a≤b) определите:\n",
        "\n",
        "сумму всех целых чисел от a до b;\n",
        "\n",
        "произведение всех целых чисел от a до b;\n",
        "\n",
        "среднее арифметическое всех целых чисел от a до b;\n",
        "\n",
        "среднее геометрическое нечетных чисел от a до b.\n",
        "\n",
        "Отрезок поиска включает сами числа a и b. При выводе вещественных результатов оставьте два знака после запятой."
      ],
      "metadata": {
        "id": "4_7o1Oehncgp"
      }
    },
    {
      "cell_type": "code",
      "source": [
        "a = int(input('первое число: '))\n",
        "b = int(input('второе число: '))\n",
        "\n",
        "ls = list(range(a,b+1,1))\n",
        "n_sum = sum(ls)\n",
        "\n",
        "n_mult = 1\n",
        "a = 0\n",
        "while a<len(ls):\n",
        "    n_mult = n_mult*ls[a]\n",
        "    a += 1\n",
        "\n",
        "n_avg = n_sum/len(ls)\n",
        "\n",
        "print(\"Сумма = \", n_sum)\n",
        "print(\"Произведение = \", n_mult)\n",
        "print(\"Ср арифметическое = \", n_avg)\n",
        "\n",
        "b = 0\n",
        "c = 0\n",
        "n_avg_geom = 1\n",
        "while b<len(ls):\n",
        "    if ls[b]%2==1:\n",
        "        n_avg_geom = n_avg_geom*ls[b]\n",
        "        b += 2\n",
        "        c += 1\n",
        "    else:\n",
        "        b += 1\n",
        "\n",
        "\n",
        "n_avg_geom = round((n_avg_geom**(1/c)),2)\n",
        "\n",
        "print(\"Ср геометрическое нечетных чисел = \", n_avg_geom)\n"
      ],
      "metadata": {
        "colab": {
          "base_uri": "https://localhost:8080/"
        },
        "id": "eKHQ1bKyoBZR",
        "outputId": "66540923-01e4-4a5a-ce17-1693aa93a51e"
      },
      "execution_count": 2,
      "outputs": [
        {
          "output_type": "stream",
          "name": "stdout",
          "text": [
            "первое число: 1\n",
            "второе число: 5\n",
            "Сумма =  15\n",
            "Произведение =  120\n",
            "Ср арифметическое =  3.0\n",
            "Ср геометрическое нечетных чисел =  2.47\n"
          ]
        }
      ]
    },
    {
      "cell_type": "markdown",
      "source": [
        "№ 4.2.14\n",
        "\n",
        "Начав тренировки, лыжник в первый день пробежал s км. (s>0, вещественное число). Каждый следующий день он увеличивал пробег на p % (0<p≤100, вещественное число) от пробега предыдущего дня. Определите:\n",
        "\n",
        "пробег лыжника за второй, третий, …, десятый день тренировок;\n",
        "\n",
        "какой суммарный путь он пробежал за первые 10 дней тренировок.\n",
        "\n",
        "При выводе вещественных результатов оставьте один знак после запятой."
      ],
      "metadata": {
        "id": "F6zSWWEhoIA_"
      }
    },
    {
      "cell_type": "code",
      "source": [
        "s=float(input(\"длина пробега лыжника - \"))\n",
        "p=float(input(\"% увеличения пробега - \"))\n",
        "name=[]\n",
        "a=1\n",
        "while a<=10:\n",
        "  name.append(s)\n",
        "  s=s*(1+(p/100))\n",
        "  a=a+1\n",
        "print(\"пробег за каждый день - \" , name)\n",
        "name_sum=sum(name)\n",
        "print(\"сумма всех пробегов - \" , name_sum)"
      ],
      "metadata": {
        "colab": {
          "base_uri": "https://localhost:8080/"
        },
        "id": "kASO3KUGoMJl",
        "outputId": "c4ec674c-7178-4064-ac38-b194f4639e43"
      },
      "execution_count": 4,
      "outputs": [
        {
          "output_type": "stream",
          "name": "stdout",
          "text": [
            "длина пробега лыжника - 10\n",
            "% увеличения пробега - 5\n",
            "пробег за каждый день -  [10.0, 10.5, 11.025, 11.576250000000002, 12.155062500000001, 12.762815625000002, 13.400956406250003, 14.071004226562504, 14.77455443789063, 15.513282159785163]\n",
            "сумма всех пробегов -  125.77892535548831\n"
          ]
        }
      ]
    },
    {
      "cell_type": "markdown",
      "source": [
        "№ 4.2.15\n",
        "\n",
        "Известна масса каждого предмета в кг., загружаемого в грузовик. Определить, возможна ли перевозка груза, если грузоподъемность грузовика равна p кг."
      ],
      "metadata": {
        "id": "jcZNyQpHoOWx"
      }
    },
    {
      "cell_type": "code",
      "source": [
        "p = int(input('грузоподъемность грузовика (кг): '))\n",
        "n = int(input('количество предметов (шт): '))\n",
        "\n",
        "amount = list()\n",
        "for x in range(n):\n",
        "    f = int(input('Введите массу предмета (кг.): '))\n",
        "    amount.append(f)\n",
        "\n",
        "if sum(amount)>=p:\n",
        "    print('Нет.')\n",
        "else:\n",
        "    print('Да.')"
      ],
      "metadata": {
        "colab": {
          "base_uri": "https://localhost:8080/"
        },
        "id": "PDBEfu9GoTe1",
        "outputId": "fcc9159b-4a11-4c0d-d76b-192cedf238ce"
      },
      "execution_count": 1,
      "outputs": [
        {
          "output_type": "stream",
          "name": "stdout",
          "text": [
            "грузоподъемность грузовика (кг): 10\n",
            "количество предметов (шт): 2\n",
            "Введите массу предмета (кг.): 3\n",
            "Введите массу предмета (кг.): 3\n",
            "Да.\n"
          ]
        }
      ]
    },
    {
      "cell_type": "markdown",
      "source": [
        "№ 4.2.16\n",
        "\n",
        "В области несколько районов. Заданы площади, засеваемые пшеницей (га.), и средняя урожайность (ц/га) в каждом районе.\n",
        "\n",
        "Определите количество пшеницы, собранное по области. При выводе вещественных результатов оставьте один знак после запятой."
      ],
      "metadata": {
        "id": "ijGfOre2o3m_"
      }
    },
    {
      "cell_type": "code",
      "source": [
        "n = int(input('Введите количество районов: '))\n",
        "\n",
        "total = list() #Ввожу список для подсчета суммы собранной пшеницы в конце.\n",
        "for x in range(n):\n",
        "    s = float(input('Введите площадь района (га): ')) #Ввожу пару вещественных чисел, как было написано в совете.\n",
        "    p = float(input('Введите урожайность в районе (ц/га.): ')) \n",
        "    g = p*s\n",
        "    total.append(g)\n",
        "\n",
        "print(round(sum(total), 1))"
      ],
      "metadata": {
        "colab": {
          "base_uri": "https://localhost:8080/"
        },
        "id": "NQEIZfIfo8zA",
        "outputId": "0422d4d8-4e24-44b7-9030-2a5aa8241fde"
      },
      "execution_count": 3,
      "outputs": [
        {
          "output_type": "stream",
          "name": "stdout",
          "text": [
            "Введите количество районов: 3\n",
            "Введите площадь района (га): 4\n",
            "Введите урожайность в районе (ц/га.): 2\n",
            "Введите площадь района (га): 7\n",
            "Введите урожайность в районе (ц/га.): 3\n",
            "Введите площадь района (га): 9\n",
            "Введите урожайность в районе (ц/га.): 4\n",
            "65.0\n"
          ]
        }
      ]
    },
    {
      "cell_type": "markdown",
      "source": [
        "№ 4.2.18\n",
        "\n",
        "Предложение, введенное с клавиатуры, содержит слова из гласных и согласных букв кириллицы (регистр может быть различный), а также пробелы.\n",
        "\n",
        "Определите количество гласных и согласных букв в предложении. Для пропуска пробелов используйте оператор continue."
      ],
      "metadata": {
        "id": "NHEXVJEHq5zk"
      }
    },
    {
      "cell_type": "code",
      "source": [
        "sentence = input(\"введите предложение - \")\n",
        "gl = 0  \n",
        "sogl = 0  \n",
        "b=0\n",
        "for x in sentence: \n",
        "    a = x.lower()\n",
        "    if a == \"а\" or a == \"я\" or a == \"у\" or a == \"ю\" or a == \"о\" or a == \"е\" or a == \"ё\" or a == \"э\" or a == \"и\" or a == \"ы\":\n",
        "        gl = gl +1\n",
        "    elif  (a==\" \") :\n",
        "      b=b+0\n",
        "    else:\n",
        "      sogl=sogl+1\n",
        "print(\"Гласных - \" , gl , \"Согласных - \" , sogl)"
      ],
      "metadata": {
        "colab": {
          "base_uri": "https://localhost:8080/"
        },
        "id": "lVmxR2Oaq_cP",
        "outputId": "549e2fdb-4525-49ed-a9bc-4add738abedb"
      },
      "execution_count": 3,
      "outputs": [
        {
          "output_type": "stream",
          "name": "stdout",
          "text": [
            "введите предложение - настроение каково во\n",
            "Гласных -  9 Согласных -  9\n"
          ]
        }
      ]
    },
    {
      "cell_type": "markdown",
      "source": [
        "№ 4.2.19\n",
        "\n",
        "Выведите на экран (в строку) все целые числа от a до b, кратные некоторому числу c.\n"
      ],
      "metadata": {
        "id": "oUaEI_CYH_IK"
      }
    },
    {
      "cell_type": "code",
      "source": [
        "a=int(input(\"Первое число - \"))\n",
        "b=int(input(\"Второе число - \"))\n",
        "c=int(input(\"кратно числу - \"))\n",
        "name=[]\n",
        "name_k=[]\n",
        "if (a>b):\n",
        "  while (b<=a):\n",
        "    name.append(b)\n",
        "    b=b+1\n",
        "else:\n",
        "  while (a<=b):\n",
        "    name.append(a)\n",
        "    a=a+1\n",
        "for i in name:\n",
        "  if (i%c==0):\n",
        "    name_k.append(i)\n",
        "print(name_k)"
      ],
      "metadata": {
        "colab": {
          "base_uri": "https://localhost:8080/"
        },
        "id": "_OVxvQpBIQC_",
        "outputId": "a53b4ee6-48b2-4de5-bc45-04f166697a21"
      },
      "execution_count": 7,
      "outputs": [
        {
          "output_type": "stream",
          "name": "stdout",
          "text": [
            "Первое число - 5\n",
            "Второе число - 10\n",
            "кратно числу - 2\n",
            "[6, 8, 10]\n"
          ]
        }
      ]
    },
    {
      "cell_type": "markdown",
      "source": [
        "№ 4.2.20\n",
        "\n",
        "Выведите на экран (в строку) все трехзначные натуральные числа, сумма цифр которых равна целому числу n (0<n≤27)."
      ],
      "metadata": {
        "id": "JCpqDfzkJZJT"
      }
    },
    {
      "cell_type": "code",
      "source": [
        "n=int(input(\"целое число от 0 до 27 - \"))\n",
        "name=[]\n",
        "for x in range(100,1000):\n",
        "  a=(x//100)\n",
        "  b=((x%100)//10)\n",
        "  c=(x%10)\n",
        "  s=(a+b+c)\n",
        "  if (s==n):\n",
        "    name.append(x)\n",
        "print(name)"
      ],
      "metadata": {
        "colab": {
          "base_uri": "https://localhost:8080/"
        },
        "id": "5nEPt8P1JdJs",
        "outputId": "2e912616-c0e7-4585-971b-480376a29b88"
      },
      "execution_count": 9,
      "outputs": [
        {
          "output_type": "stream",
          "name": "stdout",
          "text": [
            "целое число от 0 до 27 - 15\n",
            "[159, 168, 177, 186, 195, 249, 258, 267, 276, 285, 294, 339, 348, 357, 366, 375, 384, 393, 429, 438, 447, 456, 465, 474, 483, 492, 519, 528, 537, 546, 555, 564, 573, 582, 591, 609, 618, 627, 636, 645, 654, 663, 672, 681, 690, 708, 717, 726, 735, 744, 753, 762, 771, 780, 807, 816, 825, 834, 843, 852, 861, 870, 906, 915, 924, 933, 942, 951, 960]\n"
          ]
        }
      ]
    },
    {
      "cell_type": "markdown",
      "source": [
        "№ 4.2.22\n",
        "\n",
        "Даны n вещественных чисел. Определите максимальное и минимальное из них.\n",
        "\n",
        "При выводе вещественных результатов оставьте два знака после запятой."
      ],
      "metadata": {
        "id": "Za8R1_F-KRR8"
      }
    },
    {
      "cell_type": "code",
      "source": [
        "n= int(input('кол-во чисел - '))\n",
        "v=[]\n",
        "for i in range(n):\n",
        "  i=float(input('вещественное число - '))\n",
        "  v.append(i)\n",
        "\n",
        "k=min(v)\n",
        "j=max(v)\n",
        "\n",
        "print('Мин - ', k)\n",
        "print('Макс - ', j)"
      ],
      "metadata": {
        "colab": {
          "base_uri": "https://localhost:8080/"
        },
        "id": "6DFyrDyLKTE8",
        "outputId": "3aacd31a-ec00-4f5a-8435-711ffd96fafb"
      },
      "execution_count": 21,
      "outputs": [
        {
          "output_type": "stream",
          "name": "stdout",
          "text": [
            "кол-во чисел - 4\n",
            "вещественное число - 2\n",
            "вещественное число - 6\n",
            "вещественное число - 7\n",
            "вещественное число - 8\n",
            "Мин -  2.0\n",
            "Макс -  8.0\n"
          ]
        }
      ]
    }
  ]
}