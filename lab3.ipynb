{
  "nbformat": 4,
  "nbformat_minor": 0,
  "metadata": {
    "colab": {
      "provenance": [],
      "authorship_tag": "ABX9TyPs67hnzDPOUAODnexmjd8F",
      "include_colab_link": true
    },
    "kernelspec": {
      "name": "python3",
      "display_name": "Python 3"
    },
    "language_info": {
      "name": "python"
    }
  },
  "cells": [
    {
      "cell_type": "markdown",
      "metadata": {
        "id": "view-in-github",
        "colab_type": "text"
      },
      "source": [
        "<a href=\"https://colab.research.google.com/github/TatarinovaEM758/osnovy_progi/blob/main/lab3.ipynb\" target=\"_parent\"><img src=\"https://colab.research.google.com/assets/colab-badge.svg\" alt=\"Open In Colab\"/></a>"
      ]
    },
    {
      "cell_type": "markdown",
      "source": [
        "Программирование на языке высокого уровня Python\n",
        "\n",
        "https://www.yuripetrov.ru/edu/python\n",
        "\n",
        "\n",
        "Выполнила Татаринова Екатерина Михайловна\n",
        "\n",
        "Группа: АДЭУ-221\n",
        "\n",
        "e-mail: ekaterinaratatinova@gmail.com\n",
        "\n"
      ],
      "metadata": {
        "id": "sXDKSUoVgZcy"
      }
    },
    {
      "cell_type": "markdown",
      "source": [
        "#  №3.2.1\n",
        "\n",
        "Составьте программу, которая запрашивает у пользователя 2 целых числа и выполняет операции:\n",
        "\n",
        "арифметические: +, -, * , / , // , %, **;\n",
        "\n",
        "сравнение: <, <=, >, >=, !=, ==,\n",
        "\n",
        "выводя на экран результат каждого действия. В случае получение вещественного результата, округлите его до 2-х знаков после запятой (используя функцию round())."
      ],
      "metadata": {
        "id": "Mx5vkpUW_ekn"
      }
    },
    {
      "cell_type": "code",
      "source": [
        "#1\n",
        "a=int(input('a='))\n",
        "b=int(input('b='))\n",
        "print(a + b)\n",
        "print(a - b)\n",
        "print(a * b)\n",
        "print(a ** b)\n",
        "print(round(a / b, 2))\n",
        "print(a // b)\n",
        "print(a % b)\n",
        "\n",
        "print(a > b)\n",
        "print(a < b)\n",
        "print(a >= b)\n",
        "print(a <= b)\n",
        "print(a != b)\n",
        "print(a == b)\n"
      ],
      "metadata": {
        "colab": {
          "base_uri": "https://localhost:8080/"
        },
        "id": "skkqry4fgeRB",
        "outputId": "7118d697-2ecf-4982-9bda-7ee5a5bb825d"
      },
      "execution_count": null,
      "outputs": [
        {
          "output_type": "stream",
          "name": "stdout",
          "text": [
            "a=2\n",
            "b=3\n",
            "5\n",
            "-1\n",
            "6\n",
            "8\n",
            "0.67\n",
            "0\n",
            "2\n",
            "False\n",
            "True\n",
            "False\n",
            "True\n",
            "True\n",
            "False\n"
          ]
        }
      ]
    },
    {
      "cell_type": "markdown",
      "source": [
        "#  № 3.2.2\n",
        "\n",
        "Вычислите значение следующего выражения (аргументы - целые числа и вводятся с клавиатуры):\n",
        "\n",
        "![task3.png](data:image/png;base64,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)\n",
        "Округлите результат до 3-х знаков после запятой, используя функцию round()."
      ],
      "metadata": {
        "id": "d_w-napT4-rO"
      }
    },
    {
      "cell_type": "code",
      "source": [
        "x=int(input('x='))\n",
        "y=int(input('y='))\n",
        "z=int(input('z='))\n",
        "\n",
        "k=x**5+7\n",
        "l=abs(-6)*y\n",
        "m=k/l\n",
        "f=m**(1/3)\n",
        "\n",
        "c=z%y\n",
        "g=7-c\n",
        "n=f/g\n",
        "\n",
        "print(round(n, 3))"
      ],
      "metadata": {
        "colab": {
          "base_uri": "https://localhost:8080/"
        },
        "id": "R4i_29od1Ngs",
        "outputId": "a48e1acc-16f4-40ed-ad13-690c34e75b80"
      },
      "execution_count": null,
      "outputs": [
        {
          "output_type": "stream",
          "name": "stdout",
          "text": [
            "x=5\n",
            "y=7\n",
            "z=6\n",
            "4.209\n"
          ]
        }
      ]
    },
    {
      "cell_type": "markdown",
      "source": [
        "#  № 3.2.3\n",
        "\n",
        "Дана электрическая цепь, состоящая из 2-х последовательно соединенных проводников (сопротивление каждого известно). Найти общее сопротивление цепи (округление результата необходимо выполнить до 1-го знака после запятой).\n"
      ],
      "metadata": {
        "id": "mKLDnw7a56Da"
      }
    },
    {
      "cell_type": "code",
      "source": [
        "r1=float(input('r1='))\n",
        "r2=float(input('r2='))\n",
        "r=r1+r2\n",
        "print(round(r,1))"
      ],
      "metadata": {
        "colab": {
          "base_uri": "https://localhost:8080/"
        },
        "id": "_IYV2ZfS6CyC",
        "outputId": "fd6403e1-7928-4809-9618-faea29f9ea2c"
      },
      "execution_count": null,
      "outputs": [
        {
          "output_type": "stream",
          "name": "stdout",
          "text": [
            "r1=12.2\n",
            "r2=16.1\n",
            "28.3\n"
          ]
        }
      ]
    },
    {
      "cell_type": "markdown",
      "source": [
        "# № 3.2.4\n",
        "\n",
        "Дано двузначное и трехзначное число. Для каждого выведите на экран сумму и произведение цифр."
      ],
      "metadata": {
        "id": "M-FWGxsf75Ql"
      }
    },
    {
      "cell_type": "code",
      "source": [
        "num2 = int(input('num2='))\n",
        "num3 = int(input('num3='))\n",
        "\n",
        "num2_1 = num2//10\n",
        "num2_2 = num2%10\n",
        "\n",
        "num2_s = num2_1+num2_2\n",
        "num2_p = num2_1*num2_2\n",
        "\n",
        "\n",
        "num3_1 = num3//100\n",
        "num3_2 = (num3%100)//10\n",
        "num3_3 = num3%10\n",
        "\n",
        "num3_s = num3_1+num3_2+num3_3\n",
        "num3_p = num3_1*num3_2*num3_3\n",
        "\n",
        "print('Сумма двузначного:' , num2_s, ', произведение двузначного:', num2_p )\n",
        "print('Сумма трехзначного:' , num3_s , ', произведение трехзначного: ', num3_p )"
      ],
      "metadata": {
        "id": "VtwsYIbH74bB",
        "colab": {
          "base_uri": "https://localhost:8080/"
        },
        "outputId": "29fd3e5a-4382-4cd3-d68d-8b61710afe9f"
      },
      "execution_count": 7,
      "outputs": [
        {
          "output_type": "stream",
          "name": "stdout",
          "text": [
            "num2=45\n",
            "num3=456\n",
            "Сумма двузначного: 9 , произведение двузначного: 20\n",
            "Сумма трехзначного: 15 , произведение трехзначного:  120\n"
          ]
        }
      ]
    },
    {
      "cell_type": "markdown",
      "source": [
        "# № 3.2.5\n",
        "\n",
        "С начала суток прошло m минут \n",
        "\n",
        "(0<m≤24∗60).\n",
        "\n",
        " Определите:\n",
        "\n",
        "целое количество часов, прошедших с начала суток;\n",
        "\n",
        "количество минут, прошедших с момента начала последнего часа."
      ],
      "metadata": {
        "id": "UOUjMOZjBqaK"
      }
    },
    {
      "cell_type": "code",
      "source": [
        "m = int(input('Введите m='))\n",
        "\n",
        "h = m//60\n",
        "m2 = m%60\n",
        "\n",
        "print(\"Количество часов, прошедших с начала суток:\", h)\n",
        "print(\"Количество минут, прошедших с момента начала последнего часа:\", m2)"
      ],
      "metadata": {
        "id": "MgwRB7M2Bx2b",
        "colab": {
          "base_uri": "https://localhost:8080/"
        },
        "outputId": "d612e843-14c6-4b4b-c587-3dd835871c1b"
      },
      "execution_count": 1,
      "outputs": [
        {
          "output_type": "stream",
          "name": "stdout",
          "text": [
            "Введите m=123\n",
            "Количество часов, прошедших с начала суток: 2\n",
            "Количество минут, прошедших с момента начала последнего часа: 3\n"
          ]
        }
      ]
    },
    {
      "cell_type": "markdown",
      "source": [
        "# № 3.2.6\n",
        "\n",
        "Дано уравнение ax + b = 0 и отрезок [m;n]. Ответьте на вопрос, попадает ли решение уравнения в указанный отрезок."
      ],
      "metadata": {
        "id": "jzKDS1tnC1Fm"
      }
    },
    {
      "cell_type": "code",
      "source": [
        "a=int(input('a='))\n",
        "b=int(input('b='))\n",
        "m=int(input('m='))\n",
        "n=int(input('n='))\n",
        "\n",
        "x=(0-b)/a\n",
        "\n",
        "is_ok=bool((x>=m)) and(x<=n)\n",
        "\n",
        "print(\"Попадает:\", is_ok)\n",
        "\n"
      ],
      "metadata": {
        "colab": {
          "base_uri": "https://localhost:8080/"
        },
        "id": "AHVhUe7_C3dv",
        "outputId": "9fe676aa-a760-4190-fde0-2108ae45906a"
      },
      "execution_count": null,
      "outputs": [
        {
          "output_type": "stream",
          "name": "stdout",
          "text": [
            "a=1\n",
            "b=2\n",
            "m=-5\n",
            "n=5\n",
            "Попадает: True\n"
          ]
        }
      ]
    },
    {
      "cell_type": "markdown",
      "source": [
        "# № 3.2.7\n",
        "\n",
        "Составьте программу, которая запрашивает название футбольной команды и повторяет его на экране со словами\n",
        "\n",
        "... - чемпион!\n",
        "После этого выполните:\n",
        "\n",
        "используя операцию дублирования, нарисуйте черту (набор \"-\"), длиной, равной размеру названия команды;\n",
        "\n",
        "преобразуйте строку в нижний регистр и выведите на экран:\n",
        "\n",
        "длину наименования команды;\n",
        "\n",
        "есть ли в наименовании команды буква \"п\" (True/False)?\n",
        "\n",
        "сколько раз повторяется буква \"а\"?"
      ],
      "metadata": {
        "id": "xp2mESDIFBa4"
      }
    },
    {
      "cell_type": "code",
      "source": [
        "c=input('Название команды-')\n",
        "f=c + '- чемпион!'\n",
        "print(f)\n",
        "\n",
        "n=len(c)\n",
        "print(c,'-'*n,'чемпион!')\n",
        "print(f.lower())\n",
        "print(n)\n",
        "print(c.find(\"а\"))\n",
        "print('п' in c)"
      ],
      "metadata": {
        "colab": {
          "base_uri": "https://localhost:8080/"
        },
        "id": "Zrxwm05RFFPB",
        "outputId": "34d58872-31ef-475d-c951-a73927f4dc7f"
      },
      "execution_count": null,
      "outputs": [
        {
          "output_type": "stream",
          "name": "stdout",
          "text": [
            "Название команды-Спартак\n",
            "Спартак- чемпион!\n",
            "Спартак ------- чемпион!\n",
            "спартак- чемпион!\n",
            "7\n",
            "2\n",
            "True\n"
          ]
        }
      ]
    },
    {
      "cell_type": "markdown",
      "source": [
        "# № 3.2.8\n",
        "\n",
        "Составьте программу, которая запрашивает название государства и его столицы, а затем выводит сообщение:\n"
      ],
      "metadata": {
        "id": "DEP0RIa8KGz_"
      }
    },
    {
      "cell_type": "code",
      "source": [
        "country = input()\n",
        "capital = input()\n",
        "\n",
        "print('Государство -',country , ', столица -', capital )\n"
      ],
      "metadata": {
        "colab": {
          "base_uri": "https://localhost:8080/"
        },
        "id": "kAiR78jaKK-n",
        "outputId": "9c03f347-d55a-4bbd-90ec-ea465ed2bedf"
      },
      "execution_count": null,
      "outputs": [
        {
          "output_type": "stream",
          "name": "stdout",
          "text": [
            "Россия\n",
            "Москва\n",
            "Государство - Россия , столица - Москва\n"
          ]
        }
      ]
    },
    {
      "cell_type": "markdown",
      "source": [
        "# № 3.2.9\n",
        "\n",
        "Дано слово объектно-ориентированный. Используя индексацию и срезы составьте из него слова объект, ориентир, тир, кот, рента и выведите их на экран."
      ],
      "metadata": {
        "id": "cekPY-ggMoPA"
      }
    },
    {
      "cell_type": "code",
      "source": [
        "s='объектно-ориентированный'\n",
        "print(s[:6])\n",
        "print(s[9:17])\n",
        "print(s[14:17])\n",
        "print(s[4:15:5])"
      ],
      "metadata": {
        "colab": {
          "base_uri": "https://localhost:8080/"
        },
        "id": "YpNtpiNiMqzE",
        "outputId": "00fced5d-3187-49dc-ea68-b3af56ef5bd5"
      },
      "execution_count": null,
      "outputs": [
        {
          "output_type": "stream",
          "name": "stdout",
          "text": [
            "объект\n",
            "ориентир\n",
            "тир\n",
            "кот\n"
          ]
        }
      ]
    }
  ]
}