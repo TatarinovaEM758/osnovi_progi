{
  "nbformat": 4,
  "nbformat_minor": 0,
  "metadata": {
    "colab": {
      "provenance": [],
      "collapsed_sections": [],
      "authorship_tag": "ABX9TyPIIvuMSOdJ2JP0KD9ZFbAy",
      "include_colab_link": true
    },
    "kernelspec": {
      "name": "python3",
      "display_name": "Python 3"
    },
    "language_info": {
      "name": "python"
    }
  },
  "cells": [
    {
      "cell_type": "markdown",
      "metadata": {
        "id": "view-in-github",
        "colab_type": "text"
      },
      "source": [
        "<a href=\"https://colab.research.google.com/github/TatarinovaEM758/osnovy_programmirovania/blob/main/lab6.ipynb\" target=\"_parent\"><img src=\"https://colab.research.google.com/assets/colab-badge.svg\" alt=\"Open In Colab\"/></a>"
      ]
    },
    {
      "cell_type": "markdown",
      "source": [
        "#Вычислительная сложность алгоритмов\n",
        "\n",
        "https://www.yuripetrov.ru/edu/python\n",
        "\n",
        "Лабораторная работа\n",
        "\n",
        "Выполнил: Татаринова Екатерина Михайловна\n",
        "\n",
        "Группа: АДЭУ-221\n",
        "\n",
        "E-mail: ekaterinaratatinova@gmail.com"
      ],
      "metadata": {
        "id": "GnZUPPvD8qAo"
      }
    },
    {
      "cell_type": "markdown",
      "source": [
        "#6.2.1\n",
        "\n",
        "Что выполняет приведенная функция?\n",
        "\n",
        "Какова вычислительная сложность алгоритма (наихудшая оценка, O-нотацию)"
      ],
      "metadata": {
        "id": "SEhKr3uH-p1t"
      }
    },
    {
      "cell_type": "code",
      "execution_count": null,
      "metadata": {
        "id": "KaVNOd2m8fZd"
      },
      "outputs": [],
      "source": [
        "def foo(a):\n",
        "    \"\"\"!!!\n",
        "\n",
        "    Сложность: !!!.\n",
        "    \"\"\"\n",
        "    for i in range(len(a), 0, -1): #O(N)+N =O(N)\n",
        "        for j in range(1, i):  #O(N)\n",
        "            if a[j-1] > a[j]:  #O(1)+O(len(a)) = O(len(a))\n",
        "                a[j-1], a[j] = a[j], a[j-1] #O(1)+O(1)+O(1) =3*O(1)= O(1)\n",
        "    return  #O(1)\n",
        "\n",
        "\n",
        "a = [1, 2, 3, 4, 2, 1, 3, 4, 3, 5, -2, -2, 2, -2, 65, 2, 2]\n",
        "foo(a)\n",
        "\n",
        "#общая сложность равна\n",
        "# O(N)*O(N)+O(len(a))+O(1)+O(1)=O(N^2)+2*O(1)+O(len(a))= O(N^2)"
      ]
    },
    {
      "cell_type": "markdown",
      "source": [
        "#6.2.2\n",
        "\n",
        "\n",
        "Что выполняет приведенная функция?\n",
        "\n",
        "Какова вычислительная сложность алгоритма (наихудшая оценка, O-нотацию)"
      ],
      "metadata": {
        "id": "zm4CfCyH-zke"
      }
    },
    {
      "cell_type": "code",
      "source": [
        "def foo(i):\n",
        "    \"\"\"!!!\n",
        "\n",
        "    Параметры:\n",
        "        - i (int): число.\n",
        "\n",
        "    Сложность: !!!.\n",
        "    \"\"\"\n",
        "    \n",
        "    digits = \"0123456789\"                  #O(1)\n",
        "    if i == 0:                             #O(1)+O(1)+O(1)=3*O(1)= O(1)\n",
        "        return \"0\"                         #O(1) - в худшем случае не выполнится\n",
        "    result = \"\"                            #O(1)\n",
        "    while i > 0:                           #O(N)+O(1)+O(1) =O(N)+2*O(1)=O(N)\n",
        "        result = digits[i%10] + result     #O(1)+O(N)=O(N)\n",
        "        i = i // 10                        #O(1)\n",
        "    return result                          #O(1)\n",
        "\n",
        "\n",
        "#общая сложность\n",
        "#O(1)+O(1)+O(1)+O(1)+O(N)+O(N)+O(1)+O(1)=2*O(N)+6*O(1)=O(N)+O(1)=O(N)"
      ],
      "metadata": {
        "id": "KC6kteXQAS43"
      },
      "execution_count": null,
      "outputs": []
    },
    {
      "cell_type": "markdown",
      "source": [
        "##6.2.3\n",
        "\n",
        "\n",
        "Что выполняет приведенная функция?\n",
        "\n",
        "Какова вычислительная сложность алгоритма (наихудшая оценка, O-нотацию)"
      ],
      "metadata": {
        "id": "5Rx-pRPOJuIj"
      }
    },
    {
      "cell_type": "code",
      "source": [
        "def foo(s):\n",
        "    \"\"\"!!!\n",
        "\n",
        "    Параметры:\n",
        "        - s (str): строка.\n",
        "\n",
        "    Сложность: !!!.\n",
        "    \"\"\"\n",
        "    val = 0 #O(1)\n",
        "    for c in s: #O(N)\n",
        "        if c.isdigit(): #O(1)+O(1)=2*O(1)=O(1)\n",
        "            val += int(c) #O(1)\n",
        "    return val #O(1)\n",
        "\n",
        "#Общая сложность : O(1)+O(N)+O(1)+O(1)+O(1)= O(N)+4*O(1)=O(N)"
      ],
      "metadata": {
        "id": "KcxD0VEm-4rZ"
      },
      "execution_count": null,
      "outputs": []
    },
    {
      "cell_type": "code",
      "source": [
        "s=input()\n",
        "print(foo(s))"
      ],
      "metadata": {
        "colab": {
          "base_uri": "https://localhost:8080/"
        },
        "id": "L3OxRr__iHvi",
        "outputId": "bd81aa9e-a30c-42f0-deb9-ab53c9bfd095"
      },
      "execution_count": null,
      "outputs": [
        {
          "output_type": "stream",
          "name": "stdout",
          "text": [
            "п6р3и0в77ет\n",
            "23\n"
          ]
        }
      ]
    },
    {
      "cell_type": "markdown",
      "source": [
        "##6.2.4\n",
        "\n",
        "\n",
        "Что выполняет приведенная функция?\n",
        "\n",
        "Какова вычислительная сложность алгоритма (наихудшая оценка, O-нотацию)"
      ],
      "metadata": {
        "id": "sotoJ9DfJ0DW"
      }
    },
    {
      "cell_type": "code",
      "source": [
        "def foo(n):\n",
        "    \"\"\"!!!\n",
        "\n",
        "    Параметры:\n",
        "        - n (int): число.\n",
        "\n",
        "    Сложность: !!!.\n",
        "    \"\"\"\n",
        "    res = [] #O(1)\n",
        "    for i in range(1, n + 1): #O(N)\n",
        "        divisors = 0 #O(1)\n",
        "        j = 2 #O(1)\n",
        "        while j < i and divisors == 0: #O(N)+O(1)+O(1)=O(N)\n",
        "            if i % j == 0: #O(1)\n",
        "                divisors += 1 #O(1)\n",
        "            j += 1 #O(1)\n",
        "\n",
        "        if divisors == 0: #O(1)\n",
        "            res.append(i) #O(1)\n",
        "\n",
        "    return res #O(1)\n",
        "\n",
        "#Общая сложность: O(1)+O(N)+O(1)+O(N)+O(1)+O(1)+O(1)+O(1)+O(1)+O(1)=2*O(N)+8*O(1)=O(N)+O(1)=O(N)"
      ],
      "metadata": {
        "id": "toVyNvOi_GjR"
      },
      "execution_count": null,
      "outputs": []
    },
    {
      "cell_type": "markdown",
      "source": [
        "##6.2.5\n",
        "\n",
        "\n",
        "Что выполняет приведенная функция?\n",
        "\n",
        "Какова вычислительная сложность алгоритма (наихудшая оценка, O-нотацию)"
      ],
      "metadata": {
        "id": "7DucCVXQJ2wb"
      }
    },
    {
      "cell_type": "code",
      "source": [
        "def foo(nums):\n",
        "    \"\"\"!!!\n",
        "\n",
        "    Параметры:\n",
        "        - nums (list): список.\n",
        "\n",
        "    Сложность: !!!.\n",
        "    \"\"\"\n",
        "    for x in nums: #O(N)\n",
        "        if x % 2 == 0: # O(1)+O(1)+O(1)=3*O(1) =O(1)\n",
        "            return True #O(1)-  в худшем случае не выполнится\n",
        "    else: #O(1)\n",
        "        return False #O(1) - в худшем случае не выполнится\n",
        "\n",
        "#Общая сложность : O(N)+O(1)+O(1)+O(1)+O(1)=O(N)+4*O(1)=O(N)+O(1)=O(N)"
      ],
      "metadata": {
        "id": "agGYIXmI_RDp"
      },
      "execution_count": null,
      "outputs": []
    },
    {
      "cell_type": "markdown",
      "source": [
        "##6.2.6\n",
        "\n",
        "\n",
        "Что выполняет приведенная функция?\n",
        "\n",
        "Какова вычислительная сложность алгоритма (наихудшая оценка, O-нотацию)"
      ],
      "metadata": {
        "id": "YT7VHH8iJ69m"
      }
    },
    {
      "cell_type": "code",
      "source": [
        "def foo(nums):\n",
        "    \"\"\"!!!\n",
        "\n",
        "    Параметры:\n",
        "        - nums (list): список.\n",
        "\n",
        "    Сложность: !!!.\n",
        "    \"\"\"\n",
        "    return (nums[0] + nums[-1] ** 2) # O(1)+ O(len(nums)) + O(1)=O(1)\n"
      ],
      "metadata": {
        "id": "K2pg-heyJ94J"
      },
      "execution_count": null,
      "outputs": []
    },
    {
      "cell_type": "markdown",
      "source": [
        "##6.2.7\n",
        "\n",
        "\n",
        "Что выполняет приведенная функция?\n",
        "\n",
        "Какова вычислительная сложность алгоритма (наихудшая оценка, O-нотацию)"
      ],
      "metadata": {
        "id": "jQC90AmsJ_t6"
      }
    },
    {
      "cell_type": "code",
      "source": [
        "\n",
        "def foo(low, high):\n",
        "    \"\"\"!!!\n",
        "\n",
        "    Параметры:\n",
        "        - low (int): нижняя граница;\n",
        "        - high (int): верхняя граница.\n",
        "\n",
        "    Сложность: !!!.\n",
        "    \"\"\"\n",
        "    guessing = True #O(1)\n",
        "    while guessing: #O(N)\n",
        "        guess = (low + high) // 2 #O(1)+O(1)+O(1)=3*O(1)=O(1)\n",
        "        print(\"Загаданное число {0}?\".format(guess))\n",
        "        pointer = input(\n",
        "            \"Введите '+', если Ваше число меньше.\\n\"\n",
        "            \"Введите '-' если Ваше число больше.\\n\"\n",
        "            \"Введите '=', если я угадал.\\n\").lower() #O(1)\n",
        "        if pointer == \"+\": #O(1)+O(1)=2*O(1)\n",
        "            high = guess #O(1)\n",
        "        elif pointer == \"-\": #O(1)+O(1)=2*O(1)=O(1)\n",
        "            low = guess #O(1)\n",
        "        elif pointer == \"=\": #O(1)+O(1)=2*O(1)=O(1)\n",
        "            guessing = False #O(1)\n",
        "        else: #O(1)\n",
        "            print(\"Введите '+', '-' или '='.\") \n",
        "\n",
        "    return guess #O(1)\n",
        "\n",
        "#ОБщая сложность : O(1)+O(N)+O(1)+O(1)+O(1)+O(1)+O(1)+O(1)+O(1)+O(1)+O(1)+O(1)=O(N)+11*O(1)=O(N)+O(1)=O(N)\n",
        "\n",
        "# ЗАКОММЕНТИРУЙТЕ этот код перед запуском проверки\n",
        "low, high = 0, 100\n",
        "print(\"Пожалуйста, загадайте число от {0} до {1}!\".format(low, high))\n",
        "guess = foo(low, high)\n",
        "print(\"Игра окончена, Вы загадали число: {0}.\".format(guess))\n"
      ],
      "metadata": {
        "id": "RrB3tOHG_ZgU",
        "colab": {
          "base_uri": "https://localhost:8080/"
        },
        "outputId": "bdc79c4d-9972-4db8-bc15-43fdf5f0e718"
      },
      "execution_count": null,
      "outputs": [
        {
          "output_type": "stream",
          "name": "stdout",
          "text": [
            "Пожалуйста, загадайте число от 0 до 100!\n",
            "Загаданное число 50?\n",
            "Введите '+', если Ваше число меньше.\n",
            "Введите '-' если Ваше число больше.\n",
            "Введите '=', если я угадал.\n",
            "+\n",
            "Загаданное число 25?\n",
            "Введите '+', если Ваше число меньше.\n",
            "Введите '-' если Ваше число больше.\n",
            "Введите '=', если я угадал.\n",
            "=\n",
            "Игра окончена, Вы загадали число: 25.\n"
          ]
        }
      ]
    }
  ]
}